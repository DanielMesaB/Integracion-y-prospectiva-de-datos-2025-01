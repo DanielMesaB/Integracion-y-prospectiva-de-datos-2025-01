{
  "nbformat": 4,
  "nbformat_minor": 0,
  "metadata": {
    "colab": {
      "provenance": [],
      "authorship_tag": "ABX9TyORdi0ii6jsBs9xgdxOTqVI",
      "include_colab_link": true
    },
    "kernelspec": {
      "name": "python3",
      "display_name": "Python 3"
    },
    "language_info": {
      "name": "python"
    }
  },
  "cells": [
    {
      "cell_type": "markdown",
      "metadata": {
        "id": "view-in-github",
        "colab_type": "text"
      },
      "source": [
        "<a href=\"https://colab.research.google.com/github/DanielMesaB/Integracion-y-prospectiva-de-datos-2025-01/blob/main/3_Teoriacredibilidad.ipynb\" target=\"_parent\"><img src=\"https://colab.research.google.com/assets/colab-badge.svg\" alt=\"Open In Colab\"/></a>"
      ]
    },
    {
      "cell_type": "markdown",
      "source": [
        "0. Se procede a cargar las librerias de trabajo"
      ],
      "metadata": {
        "id": "WSBJEuEozJZR"
      }
    },
    {
      "cell_type": "code",
      "execution_count": null,
      "metadata": {
        "colab": {
          "base_uri": "https://localhost:8080/"
        },
        "id": "EUDtnDpIzDgb",
        "outputId": "c6f5fd33-70ce-4322-8439-0158b018461d"
      },
      "outputs": [
        {
          "output_type": "stream",
          "name": "stdout",
          "text": [
            "Mounted at /content/drive\n"
          ]
        }
      ],
      "source": [
        "import pandas as pd\n",
        "import numpy as np\n",
        "import matplotlib.pyplot as plt\n",
        "import seaborn as sns\n",
        "\n",
        "from google.colab import drive\n",
        "drive.mount('/content/drive')"
      ]
    },
    {
      "cell_type": "markdown",
      "source": [
        "1. Se procede con la carga de datos"
      ],
      "metadata": {
        "id": "xNMMGyI3zlH_"
      }
    },
    {
      "cell_type": "code",
      "source": [
        "nxlinterno='/content/drive/MyDrive/2. FallasTecnológicas.xlsx'\n",
        "nxlexterno='/content/drive/MyDrive/2. AdmonEjecProcesos.xlsx'\n",
        "\n",
        "XDBinterno=pd.read_excel(nxlinterno,sheet_name=0)\n",
        "XDBexterno=pd.read_excel(nxlexterno,sheet_name=0)\n",
        "\n",
        "Xfinterno=XDBinterno.iloc[:,3];Xfexterno=XDBexterno.iloc[:,3]\n",
        "Xsinterno=XDBinterno.iloc[:,4],Xsexterno=XDBexterno.iloc[:,4]\n",
        "\n",
        "LDAinterno=np.multiply(Xsinterno,Xsinterno);LDAexterno=np.multiply(Xfexterno,Xfexterno)\n"
      ],
      "metadata": {
        "colab": {
          "base_uri": "https://localhost:8080/",
          "height": 211
        },
        "id": "kjDZplT6zohW",
        "outputId": "895f5bfc-b87e-466b-96b6-f812abb18817"
      },
      "execution_count": null,
      "outputs": [
        {
          "output_type": "error",
          "ename": "ValueError",
          "evalue": "too many values to unpack (expected 2)",
          "traceback": [
            "\u001b[0;31m---------------------------------------------------------------------------\u001b[0m",
            "\u001b[0;31mValueError\u001b[0m                                Traceback (most recent call last)",
            "\u001b[0;32m<ipython-input-9-72fc9b860231>\u001b[0m in \u001b[0;36m<cell line: 0>\u001b[0;34m()\u001b[0m\n\u001b[1;32m      6\u001b[0m \u001b[0;34m\u001b[0m\u001b[0m\n\u001b[1;32m      7\u001b[0m \u001b[0mXfinterno\u001b[0m\u001b[0;34m=\u001b[0m\u001b[0mXDBinterno\u001b[0m\u001b[0;34m.\u001b[0m\u001b[0miloc\u001b[0m\u001b[0;34m[\u001b[0m\u001b[0;34m:\u001b[0m\u001b[0;34m,\u001b[0m\u001b[0;36m3\u001b[0m\u001b[0;34m]\u001b[0m\u001b[0;34m;\u001b[0m\u001b[0mXfexterno\u001b[0m\u001b[0;34m=\u001b[0m\u001b[0mXDBexterno\u001b[0m\u001b[0;34m.\u001b[0m\u001b[0miloc\u001b[0m\u001b[0;34m[\u001b[0m\u001b[0;34m:\u001b[0m\u001b[0;34m,\u001b[0m\u001b[0;36m3\u001b[0m\u001b[0;34m]\u001b[0m\u001b[0;34m\u001b[0m\u001b[0;34m\u001b[0m\u001b[0m\n\u001b[0;32m----> 8\u001b[0;31m \u001b[0mXsinterno\u001b[0m\u001b[0;34m=\u001b[0m\u001b[0mXDBinterno\u001b[0m\u001b[0;34m.\u001b[0m\u001b[0miloc\u001b[0m\u001b[0;34m[\u001b[0m\u001b[0;34m:\u001b[0m\u001b[0;34m,\u001b[0m\u001b[0;36m4\u001b[0m\u001b[0;34m]\u001b[0m\u001b[0;34m,\u001b[0m\u001b[0mXsexterno\u001b[0m\u001b[0;34m=\u001b[0m\u001b[0mXDBexterno\u001b[0m\u001b[0;34m.\u001b[0m\u001b[0miloc\u001b[0m\u001b[0;34m[\u001b[0m\u001b[0;34m:\u001b[0m\u001b[0;34m,\u001b[0m\u001b[0;36m4\u001b[0m\u001b[0;34m]\u001b[0m\u001b[0;34m\u001b[0m\u001b[0;34m\u001b[0m\u001b[0m\n\u001b[0m\u001b[1;32m      9\u001b[0m \u001b[0;34m\u001b[0m\u001b[0m\n\u001b[1;32m     10\u001b[0m \u001b[0mLDAinterno\u001b[0m\u001b[0;34m=\u001b[0m\u001b[0mnp\u001b[0m\u001b[0;34m.\u001b[0m\u001b[0mmultiply\u001b[0m\u001b[0;34m(\u001b[0m\u001b[0mXsinterno\u001b[0m\u001b[0;34m,\u001b[0m\u001b[0mXsinterno\u001b[0m\u001b[0;34m)\u001b[0m\u001b[0;34m;\u001b[0m\u001b[0mLDAexterno\u001b[0m\u001b[0;34m=\u001b[0m\u001b[0mnp\u001b[0m\u001b[0;34m.\u001b[0m\u001b[0mmultiply\u001b[0m\u001b[0;34m(\u001b[0m\u001b[0mXfexterno\u001b[0m\u001b[0;34m,\u001b[0m\u001b[0mXfexterno\u001b[0m\u001b[0;34m)\u001b[0m\u001b[0;34m\u001b[0m\u001b[0;34m\u001b[0m\u001b[0m\n",
            "\u001b[0;31mValueError\u001b[0m: too many values to unpack (expected 2)"
          ]
        }
      ]
    },
    {
      "cell_type": "markdown",
      "source": [
        "2. Se crea el procedimiento para calcular credibilidad"
      ],
      "metadata": {
        "id": "LLLwPSF31cCe"
      }
    },
    {
      "cell_type": "code",
      "source": [
        "def Credibilidad(LDAinterno,LDAexterno):\n",
        "  #LDAinterno = Datos internos- observados\n",
        "  #LDAexterno = Datos externos- de integración\n",
        "  NDinterno=len(LDAinterno);NDexterno=len(LDAexterno)\n",
        "  varinterno=np.var(LDAinterno);varexterna=np.var(LDAexterno)\n",
        "  uo=np.mean(LDAo);ue=np.mean(LDae)\n",
        "  EPV=(NDinterno*varinterno+NDexterno*varexterna)/(NDinterno+NDexterno)\n",
        "  Cr=EPV\n",
        "  MH=(NDinterno*uo\n",
        "\n",
        "  return Cr"
      ],
      "metadata": {
        "id": "ts9kKR8R1gZ7"
      },
      "execution_count": null,
      "outputs": []
    },
    {
      "cell_type": "code",
      "source": [
        "A"
      ],
      "metadata": {
        "id": "erobM9cJ18l_"
      },
      "execution_count": null,
      "outputs": []
    }
  ]
}