{
  "nbformat": 4,
  "nbformat_minor": 0,
  "metadata": {
    "colab": {
      "provenance": [],
      "authorship_tag": "ABX9TyMjUTh1GlKSZ/PieKND2VAa",
      "include_colab_link": true
    },
    "kernelspec": {
      "name": "python3",
      "display_name": "Python 3"
    },
    "language_info": {
      "name": "python"
    }
  },
  "cells": [
    {
      "cell_type": "markdown",
      "metadata": {
        "id": "view-in-github",
        "colab_type": "text"
      },
      "source": [
        "<a href=\"https://colab.research.google.com/github/DanielMesaB/Integracion-y-prospectiva-de-datos-2025-01/blob/main/Caracterizaci%C3%B3n_VA_Clase.ipynb\" target=\"_parent\"><img src=\"https://colab.research.google.com/assets/colab-badge.svg\" alt=\"Open In Colab\"/></a>"
      ]
    },
    {
      "cell_type": "code",
      "execution_count": null,
      "metadata": {
        "id": "lyhZIqhPcX65"
      },
      "outputs": [],
      "source": []
    },
    {
      "cell_type": "markdown",
      "source": [
        "** Caracterización experimental de variables **\n",
        "0. Cargar las librerias de trabajo\n"
      ],
      "metadata": {
        "id": "PgmKQWrzeTu5"
      }
    },
    {
      "cell_type": "code",
      "source": [
        "import numpy as np       # Funciones númericas\n",
        "import matplotlib.pyplot as plt\n",
        "import pandas as pd      # Comunicación con el excel\n",
        "import seaborn as sns    # Libreria para la graficas de distribuciones\n",
        "\n",
        "#Para carga automatica de los datos\n",
        "from google.colab import drive  # Cargar datos desde el drive automática\n",
        "drive.mount ('/content/drive')  #Conecta el drive al colab"
      ],
      "metadata": {
        "colab": {
          "base_uri": "https://localhost:8080/"
        },
        "id": "1ZXDY3rNemSH",
        "outputId": "facf597f-c0f1-434d-fa6d-546f932ad5a0"
      },
      "execution_count": 1,
      "outputs": [
        {
          "output_type": "stream",
          "name": "stdout",
          "text": [
            "Mounted at /content/drive\n"
          ]
        }
      ]
    },
    {
      "cell_type": "code",
      "source": [
        "nxl='/content/drive/MyDrive/FALLASOFICIAL.xlsx'\n",
        "XDB=pd.read_excel(nxl) # Si deseo elegir una hoja en especifico es con sheet:name=,,, recordar que arraanca desde 0\n",
        "\n",
        "XDB.dropna()\n",
        "XDB.head(100) # Mostrar los primeros 100 datos\n",
        "\n",
        "\n",
        "# Tomamos las variables de interés\n",
        "Xev=XDB.iloc[:,3] # Variables eventos semanales\n",
        "Xsev=XDB.iloc[:,4] # Pérdidas promedio por evento\n",
        "LDA=np.multiply(Xev,Xsev)\n",
        "\n",
        "#Graficamos la distribución de las pérdidas\n",
        "plt.figure()\n",
        "sns.histplot(LDA,kde=True, bins=10, color='Red')\n",
        "#bins quiere decir que estoy agrupando los datos en 10 intervalos\n",
        "plt.legend(['Distribución de pérdidas'])\n",
        "#plt.figure(figsize=(10000,6))\n",
        "plt.show()\n"
      ],
      "metadata": {
        "colab": {
          "base_uri": "https://localhost:8080/",
          "height": 430
        },
        "id": "8qaZ9TXFgyl5",
        "outputId": "894489d8-c372-4322-b98d-5ce0f4d38ad0"
      },
      "execution_count": 2,
      "outputs": [
        {
          "output_type": "display_data",
          "data": {
            "text/plain": [
              "<Figure size 640x480 with 1 Axes>"
            ],
            "image/png": "[encoded data removed]"
          },
          "metadata": {}
        }
      ]
    },
    {
      "cell_type": "code",
      "source": [],
      "metadata": {
        "id": "nFeSN9eoiEuB"
      },
      "execution_count": null,
      "outputs": []
    },
    {
      "cell_type": "markdown",
      "source": [
        "2. Caracterización de la distribución de las pérdidas"
      ],
      "metadata": {
        "id": "AKsAYd4-lci0"
      }
    },
    {
      "cell_type": "code",
      "source": [
        "counts,bin_edges=np.histogram(LDA,bins=10)\n",
        "print(\"Los datos por intervalo son: \\n\",counts) #Cuantos datos hay por intervalo\n",
        "print(\"Los limites de los intervalos son: \\n\",bin_edges) #Limites de los intervalos\n",
        "\n",
        "#1. Los valores centrales - marcas de clase\n",
        "mc=(bin_edges[:-1]+bin_edges[1:])/2\n",
        "#Limites inferiores bin_edges [:-1]\n",
        "#Limites superiores bin_edges [1:]\n",
        "print(\"Los valores centrales de las clases son: \\n\",mc)\n",
        "\n",
        "\n",
        "#Cuantos datos hay por intervalo\n",
        "fp=counts/sum(counts)\n",
        "print(\"Los datos por intervalo son: \\n\", fp)\n",
        "\n",
        "#2. Se procede con el calculo de las medidas de tendencia central ( Media, Varianza, Coeficiente de asimetria, Kurtosis )\n",
        "u=np.sum(np.multiply(mc,fp))\n",
        "print(\"La media de los datos es:\", u)\n",
        "\n",
        "#3. Desviación - Estandar ( Varianza )\n",
        "var=np.sum(np.multiply((mc-u)**2, fp)) # Suma producto del excel\n",
        "print(\"La varianza de los datos es:\", var)\n",
        "std=np.sqrt(var)\n",
        "print(\"La desviación estandar de los datos es:\",std)\n",
        "\n",
        "#4. Coeficiente de asimetria\n",
        "cas=np.sum(np.multiply(((mc-u)/std)**3, fp))\n",
        "print(\"El coeficiente de asimetria de los datos es:\",cas)\n",
        "\n",
        "#5. Coeficiente de kurtosis\n",
        "ck=np.sum(np.multiply(((mc-u)/std)**4, fp))\n",
        "ck=ck-3\n",
        "print(\"El coeficiente de kurtosis de los datos es:\",ck)"
      ],
      "metadata": {
        "colab": {
          "base_uri": "https://localhost:8080/"
        },
        "id": "ltiSkOUMlgt9",
        "outputId": "4c097a1b-e2db-4259-b9c4-1278de7a3897"
      },
      "execution_count": 10,
      "outputs": [
        {
          "output_type": "stream",
          "name": "stdout",
          "text": [
            "Los datos por intervalo son: \n",
            " [744 153  47  15  11   2   7  11   3   7]\n",
            "Los limites de los intervalos son: \n",
            " [ 0.1796  10.10124 20.02288 29.94452 39.86616 49.7878  59.70944 69.63108\n",
            " 79.55272 89.47436 99.396  ]\n",
            "Los valores centrales de las clases son: \n",
            " [ 5.14042 15.06206 24.9837  34.90534 44.82698 54.74862 64.67026 74.5919\n",
            " 84.51354 94.43518]\n",
            "Los datos por intervalo son: \n",
            " [0.744 0.153 0.047 0.015 0.011 0.002 0.007 0.011 0.003 0.007]\n",
            "La media de los datos es: 10.617165280000002\n",
            "La varianza de los datos es: 191.6897546701769\n",
            "La desviación estandar de los datos es: 13.845206920453624\n",
            "El coeficiente de asimetria de los datos es: 3.8342591770784185\n",
            "El coeficiente de kurtosis de los datos es: 16.310778017836522\n"
          ]
        }
      ]
    },
    {
      "cell_type": "markdown",
      "source": [
        "**Analisis de resultados**\n",
        "En la base dd datos se cuenta con un total de 701 registrs de eventos de pérdida asociados con las operaciones a traves de canales electronicos de una FINTECH.\n",
        "Estos registros nos arrojan como resultado una confiabilidad en la estimación de los estadisticos del 99%, de acuerdo con la teoria de los percentiles.\n",
        "\n",
        "En a grafica anterior, podems observar que la distribución presenta estructura de cola larga, esto promovido por un coeficiente de asimetria positivo aproximadamente de  (3,348), y un coeficiente kurtosis aproximadamente de 15 unidades, lo que indica que la mayoria de los datos se encuentran muy concentrados alrededor de la media, en un 76% aproximadamente.\n",
        "Esta estructura muestra que los eventos de pérdida extremos son muy escasos, lo que indica una baja exposición al riesgo."
      ],
      "metadata": {
        "id": "IZrPVn2osgRV"
      }
    },
    {
      "cell_type": "markdown",
      "source": [
        "3. Se procede con el muestreo de la variable de pérdidas"
      ],
      "metadata": {
        "id": "742bycUVaEhh"
      }
    },
    {
      "cell_type": "code",
      "source": [],
      "metadata": {
        "id": "GLRBbUogfovZ"
      },
      "execution_count": null,
      "outputs": []
    },
    {
      "cell_type": "code",
      "source": [
        "from scipy.stats import skew,kurtosis\n",
        "#0. Preparar la variable para el muestreo\n",
        "LDAdf=pd.DataFrame(LDA)\n",
        "\n",
        " #1. Se procede con el muestreo\n",
        "LDA=LDAdf.sample(n=1000,replace=True)\n",
        "casd=skew(LDAs)\n",
        "print (\"El coeficiente de asimetria de los datos es:\")\n",
        "\n",
        "ckd=kurtosis(LDAs)\n",
        "ckd=ckd-3\n",
        "print (\"El coeficiente de asimetria de los datos es:\")\n",
        "\n",
        "pvcas=(cas-casd)/cas\n",
        "print(\"Variación coeficeinte de asimetria de los datos es:\", pvcas )\n",
        "LDAs=LDAdf.sample(n=1000,replace=True)\n",
        "\n",
        "pvkd=(ck-ckd)/ck\n",
        "print(\"Variación coeficeinte de asimetria de los datos es:\", pvkd )\n",
        "\n",
        "\n",
        "\n",
        "#Se procede con la grafica de las perdidas\n",
        "\n",
        "plt.figure\n",
        "sns.histplot(LDA,kde=True,bins=10, color='Pink')\n",
        "sns.histplot(LDAs,kde=True,bins=10, color='green')\n",
        "plt.legend(['Diferencia'])\n",
        "plt.show()\n",
        "\n"
      ],
      "metadata": {
        "colab": {
          "base_uri": "https://localhost:8080/",
          "height": 499
        },
        "id": "uliqLDUIaMLJ",
        "outputId": "ea3f21b2-6f08-4f3a-8ad8-afcc54c5b221"
      },
      "execution_count": 28,
      "outputs": [
        {
          "output_type": "stream",
          "name": "stdout",
          "text": [
            "El coeficiente de asimetria de los datos es:\n",
            "El coeficiente de asimetria de los datos es:\n",
            "Variación coeficeinte de asimetria de los datos es: [-0.04076767]\n",
            "Variación coeficeinte de asimetria de los datos es: [0.00460019]\n"
          ]
        },
        {
          "output_type": "display_data",
          "data": {
            "text/plain": [
              "<Figure size 640x480 with 1 Axes>"
            ],
            "image/png": "[encoded data removed]"
          },
          "metadata": {}
        }
      ]
    },
    {
      "cell_type": "markdown",
      "source": [
        "4. Mapeo de la distribución de probabilidad"
      ],
      "metadata": {
        "id": "uRkO_gBneXVX"
      }
    },
    {
      "cell_type": "code",
      "source": [
        "if abs(cas)<0.5 and abs(ck)<0.5:\n",
        "  print(\"Posible distribución normal\")\n",
        "\n",
        "elif cas >0 and ck > 3:\n",
        "  if ck>=8:\n",
        "    print(\"Posible distribución Exponencial\")\n",
        "  elif ck>=6:\n",
        "    print(\"Posible distribución Gamma\")\n",
        "  else:\n",
        "    print(\"Posible distribución Weibull\")\n",
        "\n",
        "elif cas<0 and ck<3:\n",
        "  print(\"Posible distribución Beta\")\n",
        "elif ck <3:\n",
        "  print(\"Posible distribución Uniforme\")\n",
        "\n",
        "else:\n",
        "  print(\"No se pudo identificar la distribución\")\n",
        "\n",
        "if cas> 0 and abs (ck ) > 8:\n",
        "\n",
        "    print(\"Posible distribución exponencial\")\n",
        "\n",
        "elif kurtosis >=6:\n",
        "  print(\"Posible distribución Gamma\")\n",
        "\n",
        "\n",
        ""
      ],
      "metadata": {
        "colab": {
          "base_uri": "https://localhost:8080/"
        },
        "id": "lluLMVI4a5jF",
        "outputId": "c3d6cd64-3d62-4833-e77d-563561ec4f42"
      },
      "execution_count": 27,
      "outputs": [
        {
          "output_type": "stream",
          "name": "stdout",
          "text": [
            "Posible distribución Exponencial\n",
            "Posible distribución exponencial\n"
          ]
        }
      ]
    },
    {
      "cell_type": "markdown",
      "source": [
        "** Análisis de Resultados **\n",
        "El número de datos disponibles para este análisis fueron en total 701 datos, lo que lo ubica en una confiabilidad del 99%. Para incrementar esta confiabilidad se procedio con un muestreo basado en el método de monte carlo ( giro de la ruleta - cargada ) logrando en muchos casos coeficientes de curtosis y coeficientes de asimetria por debajo del 5% y coeficiente de curtosis del 15%, a diferencia, del metodo sampling, que utiliza la libreria pandas, los cuales tuvieron variaciones mayores a estos porcentajes %.\n",
        "El método de montecarlo asegura variaciones mucho más bajas en estos coeficientes.\n",
        "\n"
      ],
      "metadata": {
        "id": "uYrcdS8uqip_"
      }
    }
  ]
}